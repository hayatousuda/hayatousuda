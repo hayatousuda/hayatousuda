{
  "nbformat": 4,
  "nbformat_minor": 0,
  "metadata": {
    "colab": {
      "name": "Test_01-mnist-hello-world.ipynb",
      "provenance": [],
      "authorship_tag": "ABX9TyPRjwRqZf85tniPF0cA6OqZ",
      "include_colab_link": true
    },
    "kernelspec": {
      "name": "python3",
      "display_name": "Python 3"
    }
  },
  "cells": [
    {
      "cell_type": "markdown",
      "metadata": {
        "id": "view-in-github",
        "colab_type": "text"
      },
      "source": [
        "<a href=\"https://colab.research.google.com/github/hayatousuda/hayatousuda/blob/master/Test_01_mnist_hello_world.ipynb\" target=\"_parent\"><img src=\"https://colab.research.google.com/assets/colab-badge.svg\" alt=\"Open In Colab\"/></a>"
      ]
    },
    {
      "cell_type": "code",
      "metadata": {
        "id": "mrA9m_9ovXSZ"
      },
      "source": [
        ""
      ],
      "execution_count": null,
      "outputs": []
    },
    {
      "cell_type": "code",
      "metadata": {
        "id": "zK7-Gg69kMnG",
        "colab": {
          "base_uri": "https://localhost:8080/"
        },
        "outputId": "a7e3d7d8-ae97-4f06-ddbf-13855b64d46b"
      },
      "source": [
        "! pip install pytorch-lightning --quiet"
      ],
      "execution_count": 1,
      "outputs": [
        {
          "output_type": "stream",
          "text": [
            "\u001b[K     |████████████████████████████████| 686kB 5.5MB/s \n",
            "\u001b[K     |████████████████████████████████| 645kB 9.0MB/s \n",
            "\u001b[K     |████████████████████████████████| 102kB 7.4MB/s \n",
            "\u001b[K     |████████████████████████████████| 829kB 14.1MB/s \n",
            "\u001b[K     |████████████████████████████████| 1.3MB 21.5MB/s \n",
            "\u001b[K     |████████████████████████████████| 296kB 30.9MB/s \n",
            "\u001b[K     |████████████████████████████████| 143kB 44.6MB/s \n",
            "\u001b[?25h  Building wheel for future (setup.py) ... \u001b[?25l\u001b[?25hdone\n",
            "  Building wheel for idna-ssl (setup.py) ... \u001b[?25l\u001b[?25hdone\n"
          ],
          "name": "stdout"
        }
      ]
    }
  ]
}